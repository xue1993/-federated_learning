{
  "nbformat": 4,
  "nbformat_minor": 0,
  "metadata": {
    "colab": {
      "name": "options.ipynb",
      "provenance": [],
      "include_colab_link": true
    },
    "kernelspec": {
      "name": "python3",
      "display_name": "Python 3"
    }
  },
  "cells": [
    {
      "cell_type": "markdown",
      "metadata": {
        "id": "view-in-github",
        "colab_type": "text"
      },
      "source": [
        "<a href=\"https://colab.research.google.com/github/xue1993/-federated_learning/blob/master/code/options.ipynb\" target=\"_parent\"><img src=\"https://colab.research.google.com/assets/colab-badge.svg\" alt=\"Open In Colab\"/></a>"
      ]
    },
    {
      "cell_type": "code",
      "metadata": {
        "id": "hPN6WEh753Ug",
        "colab_type": "code",
        "colab": {}
      },
      "source": [
        "#!/usr/bin/env python\n",
        "# -*- coding: utf-8 -*-\n",
        "# Python version: 3.6\n",
        "\n",
        "import argparse\n",
        "\n",
        "\n",
        "def args_parser():\n",
        "    parser = argparse.ArgumentParser()\n",
        "\n",
        "    # federated arguments (Notation for the arguments followed from paper)\n",
        "    parser.add_argument('--epochs', type=int, default=10,\n",
        "                        help=\"number of rounds of training\")\n",
        "    parser.add_argument('--num_users', type=int, default=100,\n",
        "                        help=\"number of users: K\")\n",
        "    parser.add_argument('--frac', type=float, default=0.1,\n",
        "                        help='the fraction of clients: C')\n",
        "    parser.add_argument('--local_ep', type=int, default=10,\n",
        "                        help=\"the number of local epochs: E\")\n",
        "    parser.add_argument('--local_bs', type=int, default=10,\n",
        "                        help=\"local batch size: B\")\n",
        "    parser.add_argument('--lr', type=float, default=0.01,\n",
        "                        help='learning rate')\n",
        "    parser.add_argument('--momentum', type=float, default=0.5,\n",
        "                        help='SGD momentum (default: 0.5)')\n",
        "    #newly added                    \n",
        "    parser.add_argument('--spr', type=float, default=0.1,\n",
        "                        help='the sparsity level of local update to be zero')                    \n",
        "\n",
        "    # model arguments\n",
        "    parser.add_argument('--model', type=str, default='mlp', help='model name')\n",
        "    parser.add_argument('--kernel_num', type=int, default=9,\n",
        "                        help='number of each kind of kernel')\n",
        "    parser.add_argument('--kernel_sizes', type=str, default='3,4,5',\n",
        "                        help='comma-separated kernel size to \\\n",
        "                        use for convolution')\n",
        "    parser.add_argument('--num_channels', type=int, default=1, help=\"number \\\n",
        "                        of channels of imgs\")\n",
        "    parser.add_argument('--norm', type=str, default='batch_norm',\n",
        "                        help=\"batch_norm, layer_norm, or None\")\n",
        "    parser.add_argument('--num_filters', type=int, default=32,\n",
        "                        help=\"number of filters for conv nets -- 32 for \\\n",
        "                        mini-imagenet, 64 for omiglot.\")\n",
        "    parser.add_argument('--max_pool', type=str, default='True',\n",
        "                        help=\"Whether use max pooling rather than \\\n",
        "                        strided convolutions\")\n",
        "\n",
        "    # other arguments\n",
        "    parser.add_argument('--dataset', type=str, default='mnist', help=\"name \\\n",
        "                        of dataset\")\n",
        "    parser.add_argument('--num_classes', type=int, default=10, help=\"number \\\n",
        "                        of classes\")\n",
        "    parser.add_argument('--gpu', default=None, help=\"To use cuda, set \\\n",
        "                        to a specific GPU ID, like cuda:0. Default set to use CPU.\")\n",
        "    parser.add_argument('--optimizer', type=str, default='sgd', help=\"type \\\n",
        "                        of optimizer\")\n",
        "    parser.add_argument('--iid', type=int, default=1,\n",
        "                        help='Default set to IID. Set to 0 for non-IID.')\n",
        "    #newly added\n",
        "    parser.add_argument('--savetxt', type=int, default=1,\n",
        "                        help='Default set to save output in txt.')                    \n",
        "    parser.add_argument('--unequal', type=int, default=0,\n",
        "                        help='whether to use unequal data splits for  \\\n",
        "                        non-i.i.d setting (use 0 for equal splits)')\n",
        "    parser.add_argument('--stopping_rounds', type=int, default=10,\n",
        "                        help='rounds of early stopping')\n",
        "    parser.add_argument('--verbose', type=int, default=0, help='verbose')\n",
        "    parser.add_argument('--seed', type=int, default=1, help='random seed')\n",
        "    args, unknown = parser.parse_args()\n",
        "    return args\n"
      ],
      "execution_count": null,
      "outputs": []
    }
  ]
}