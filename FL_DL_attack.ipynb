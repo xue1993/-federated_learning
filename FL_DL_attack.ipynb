{
  "nbformat": 4,
  "nbformat_minor": 0,
  "metadata": {
    "colab": {
      "name": "FL_DL_attack.ipynb",
      "provenance": [],
      "authorship_tag": "ABX9TyM4Sln7t1cYzdqto5Fvpknu",
      "include_colab_link": true
    },
    "kernelspec": {
      "name": "python3",
      "display_name": "Python 3"
    },
    "accelerator": "GPU",
    "widgets": {
      "application/vnd.jupyter.widget-state+json": {
        "d1d3c988d960479faeed9a8f09999aa6": {
          "model_module": "@jupyter-widgets/controls",
          "model_name": "HBoxModel",
          "state": {
            "_view_name": "HBoxView",
            "_dom_classes": [],
            "_model_name": "HBoxModel",
            "_view_module": "@jupyter-widgets/controls",
            "_model_module_version": "1.5.0",
            "_view_count": null,
            "_view_module_version": "1.5.0",
            "box_style": "",
            "layout": "IPY_MODEL_53c980fe9ac64f49a7813f0ee87d74b6",
            "_model_module": "@jupyter-widgets/controls",
            "children": [
              "IPY_MODEL_7aa9ea3fbb14448bbf3ab171b6fef4c8",
              "IPY_MODEL_6303434cdbb24eb2ba149064b298f2dc"
            ]
          }
        },
        "53c980fe9ac64f49a7813f0ee87d74b6": {
          "model_module": "@jupyter-widgets/base",
          "model_name": "LayoutModel",
          "state": {
            "_view_name": "LayoutView",
            "grid_template_rows": null,
            "right": null,
            "justify_content": null,
            "_view_module": "@jupyter-widgets/base",
            "overflow": null,
            "_model_module_version": "1.2.0",
            "_view_count": null,
            "flex_flow": null,
            "width": null,
            "min_width": null,
            "border": null,
            "align_items": null,
            "bottom": null,
            "_model_module": "@jupyter-widgets/base",
            "top": null,
            "grid_column": null,
            "overflow_y": null,
            "overflow_x": null,
            "grid_auto_flow": null,
            "grid_area": null,
            "grid_template_columns": null,
            "flex": null,
            "_model_name": "LayoutModel",
            "justify_items": null,
            "grid_row": null,
            "max_height": null,
            "align_content": null,
            "visibility": null,
            "align_self": null,
            "height": null,
            "min_height": null,
            "padding": null,
            "grid_auto_rows": null,
            "grid_gap": null,
            "max_width": null,
            "order": null,
            "_view_module_version": "1.2.0",
            "grid_template_areas": null,
            "object_position": null,
            "object_fit": null,
            "grid_auto_columns": null,
            "margin": null,
            "display": null,
            "left": null
          }
        },
        "7aa9ea3fbb14448bbf3ab171b6fef4c8": {
          "model_module": "@jupyter-widgets/controls",
          "model_name": "FloatProgressModel",
          "state": {
            "_view_name": "ProgressView",
            "style": "IPY_MODEL_fb3db4b71f39402cb0a4036d79f65392",
            "_dom_classes": [],
            "description": "",
            "_model_name": "FloatProgressModel",
            "bar_style": "info",
            "max": 1,
            "_view_module": "@jupyter-widgets/controls",
            "_model_module_version": "1.5.0",
            "value": 1,
            "_view_count": null,
            "_view_module_version": "1.5.0",
            "orientation": "horizontal",
            "min": 0,
            "description_tooltip": null,
            "_model_module": "@jupyter-widgets/controls",
            "layout": "IPY_MODEL_d5dd7f04082146288601c58e3f77d323"
          }
        },
        "6303434cdbb24eb2ba149064b298f2dc": {
          "model_module": "@jupyter-widgets/controls",
          "model_name": "HTMLModel",
          "state": {
            "_view_name": "HTMLView",
            "style": "IPY_MODEL_28303a9beb3a4f678345d0b45a38f7db",
            "_dom_classes": [],
            "description": "",
            "_model_name": "HTMLModel",
            "placeholder": "​",
            "_view_module": "@jupyter-widgets/controls",
            "_model_module_version": "1.5.0",
            "value": " 169009152/? [00:30&lt;00:00, 4218680.29it/s]",
            "_view_count": null,
            "_view_module_version": "1.5.0",
            "description_tooltip": null,
            "_model_module": "@jupyter-widgets/controls",
            "layout": "IPY_MODEL_d4871cd1f6424f4eb61f776bbdc22339"
          }
        },
        "fb3db4b71f39402cb0a4036d79f65392": {
          "model_module": "@jupyter-widgets/controls",
          "model_name": "ProgressStyleModel",
          "state": {
            "_view_name": "StyleView",
            "_model_name": "ProgressStyleModel",
            "description_width": "initial",
            "_view_module": "@jupyter-widgets/base",
            "_model_module_version": "1.5.0",
            "_view_count": null,
            "_view_module_version": "1.2.0",
            "bar_color": null,
            "_model_module": "@jupyter-widgets/controls"
          }
        },
        "d5dd7f04082146288601c58e3f77d323": {
          "model_module": "@jupyter-widgets/base",
          "model_name": "LayoutModel",
          "state": {
            "_view_name": "LayoutView",
            "grid_template_rows": null,
            "right": null,
            "justify_content": null,
            "_view_module": "@jupyter-widgets/base",
            "overflow": null,
            "_model_module_version": "1.2.0",
            "_view_count": null,
            "flex_flow": null,
            "width": null,
            "min_width": null,
            "border": null,
            "align_items": null,
            "bottom": null,
            "_model_module": "@jupyter-widgets/base",
            "top": null,
            "grid_column": null,
            "overflow_y": null,
            "overflow_x": null,
            "grid_auto_flow": null,
            "grid_area": null,
            "grid_template_columns": null,
            "flex": null,
            "_model_name": "LayoutModel",
            "justify_items": null,
            "grid_row": null,
            "max_height": null,
            "align_content": null,
            "visibility": null,
            "align_self": null,
            "height": null,
            "min_height": null,
            "padding": null,
            "grid_auto_rows": null,
            "grid_gap": null,
            "max_width": null,
            "order": null,
            "_view_module_version": "1.2.0",
            "grid_template_areas": null,
            "object_position": null,
            "object_fit": null,
            "grid_auto_columns": null,
            "margin": null,
            "display": null,
            "left": null
          }
        },
        "28303a9beb3a4f678345d0b45a38f7db": {
          "model_module": "@jupyter-widgets/controls",
          "model_name": "DescriptionStyleModel",
          "state": {
            "_view_name": "StyleView",
            "_model_name": "DescriptionStyleModel",
            "description_width": "",
            "_view_module": "@jupyter-widgets/base",
            "_model_module_version": "1.5.0",
            "_view_count": null,
            "_view_module_version": "1.2.0",
            "_model_module": "@jupyter-widgets/controls"
          }
        },
        "d4871cd1f6424f4eb61f776bbdc22339": {
          "model_module": "@jupyter-widgets/base",
          "model_name": "LayoutModel",
          "state": {
            "_view_name": "LayoutView",
            "grid_template_rows": null,
            "right": null,
            "justify_content": null,
            "_view_module": "@jupyter-widgets/base",
            "overflow": null,
            "_model_module_version": "1.2.0",
            "_view_count": null,
            "flex_flow": null,
            "width": null,
            "min_width": null,
            "border": null,
            "align_items": null,
            "bottom": null,
            "_model_module": "@jupyter-widgets/base",
            "top": null,
            "grid_column": null,
            "overflow_y": null,
            "overflow_x": null,
            "grid_auto_flow": null,
            "grid_area": null,
            "grid_template_columns": null,
            "flex": null,
            "_model_name": "LayoutModel",
            "justify_items": null,
            "grid_row": null,
            "max_height": null,
            "align_content": null,
            "visibility": null,
            "align_self": null,
            "height": null,
            "min_height": null,
            "padding": null,
            "grid_auto_rows": null,
            "grid_gap": null,
            "max_width": null,
            "order": null,
            "_view_module_version": "1.2.0",
            "grid_template_areas": null,
            "object_position": null,
            "object_fit": null,
            "grid_auto_columns": null,
            "margin": null,
            "display": null,
            "left": null
          }
        }
      }
    }
  },
  "cells": [
    {
      "cell_type": "markdown",
      "metadata": {
        "id": "view-in-github",
        "colab_type": "text"
      },
      "source": [
        "<a href=\"https://colab.research.google.com/github/xue1993/-federated_learning/blob/master/FL_DL_attack.ipynb\" target=\"_parent\"><img src=\"https://colab.research.google.com/assets/colab-badge.svg\" alt=\"Open In Colab\"/></a>"
      ]
    },
    {
      "cell_type": "code",
      "metadata": {
        "colab": {
          "base_uri": "https://localhost:8080/"
        },
        "id": "kBRNcmph_b_f",
        "outputId": "5d8fd214-5536-48fc-cfa4-e8ccab458849"
      },
      "source": [
        "%matplotlib inline\n",
        "\n",
        "import numpy as np\n",
        "from pprint import pprint\n",
        "from tqdm import tqdm\n",
        "from PIL import Image\n",
        "import matplotlib.pyplot as plt\n",
        "\n",
        "import torch\n",
        "import torch.nn as nn\n",
        "import torch.nn.functional as F\n",
        "from torch.autograd import grad\n",
        "import torchvision\n",
        "from torchvision import models, datasets, transforms\n",
        "torch.manual_seed(50)\n",
        "\n",
        "print(torch.__version__, torchvision.__version__)"
      ],
      "execution_count": 1,
      "outputs": [
        {
          "output_type": "stream",
          "text": [
            "1.7.0+cu101 0.8.1+cu101\n"
          ],
          "name": "stdout"
        }
      ]
    },
    {
      "cell_type": "code",
      "metadata": {
        "colab": {
          "base_uri": "https://localhost:8080/",
          "height": 99,
          "referenced_widgets": [
            "d1d3c988d960479faeed9a8f09999aa6",
            "53c980fe9ac64f49a7813f0ee87d74b6",
            "7aa9ea3fbb14448bbf3ab171b6fef4c8",
            "6303434cdbb24eb2ba149064b298f2dc",
            "fb3db4b71f39402cb0a4036d79f65392",
            "d5dd7f04082146288601c58e3f77d323",
            "28303a9beb3a4f678345d0b45a38f7db",
            "d4871cd1f6424f4eb61f776bbdc22339"
          ]
        },
        "id": "vJf6XniJ_mWs",
        "outputId": "81993982-dc0a-4292-900a-90fb7a24bfdd"
      },
      "source": [
        "dst = datasets.CIFAR100(\"~/.torch\", download=True)\n",
        "tp = transforms.Compose([\n",
        "    transforms.Resize(32),\n",
        "    transforms.CenterCrop(32),\n",
        "    transforms.ToTensor()\n",
        "])\n",
        "tt = transforms.ToPILImage()\n",
        "\n",
        "device = \"cpu\"\n",
        "if torch.cuda.is_available():\n",
        "    device = \"cuda\"\n",
        "print(\"Running on %s\" % device)\n",
        "\n",
        "def label_to_onehot(target, num_classes=100):\n",
        "    target = torch.unsqueeze(target, 1)\n",
        "    onehot_target = torch.zeros(target.size(0), num_classes, device=target.device)\n",
        "    onehot_target.scatter_(1, target, 1)\n",
        "    return onehot_target\n",
        "\n",
        "def cross_entropy_for_onehot(pred, target):\n",
        "    return torch.mean(torch.sum(- target * F.log_softmax(pred, dim=-1), 1))\n",
        "\n",
        "def get_parameters(net):\n",
        "    for param in net.parameters():\n",
        "        print('Summery of parameters:',type(param.data), param.size())\n",
        "        print('total number of parameters',sum(p.numel() for p in net.parameters() if p.requires_grad))  \n",
        "        \n",
        "def mask_grad(original_dy_dx,mask,total_parameters,replace_rate=0.9): \n",
        "    \n",
        "    masked_dy_dx=[]\n",
        "    \n",
        "    for i in range(len(original_dy_dx)):\n",
        "       \n",
        "        # use your mask to replace values in your input array\n",
        "        masked_dy_dx.append(original_dy_dx[i].cpu().masked_fill_(mask[i], 0).cuda())\n",
        "        \n",
        "    return masked_dy_dx"
      ],
      "execution_count": 2,
      "outputs": [
        {
          "output_type": "stream",
          "text": [
            "Downloading https://www.cs.toronto.edu/~kriz/cifar-100-python.tar.gz to /root/.torch/cifar-100-python.tar.gz\n"
          ],
          "name": "stdout"
        },
        {
          "output_type": "display_data",
          "data": {
            "application/vnd.jupyter.widget-view+json": {
              "model_id": "d1d3c988d960479faeed9a8f09999aa6",
              "version_minor": 0,
              "version_major": 2
            },
            "text/plain": [
              "HBox(children=(FloatProgress(value=1.0, bar_style='info', max=1.0), HTML(value='')))"
            ]
          },
          "metadata": {
            "tags": []
          }
        },
        {
          "output_type": "stream",
          "text": [
            "Extracting /root/.torch/cifar-100-python.tar.gz to /root/.torch\n",
            "Running on cuda\n"
          ],
          "name": "stdout"
        }
      ]
    },
    {
      "cell_type": "code",
      "metadata": {
        "colab": {
          "base_uri": "https://localhost:8080/"
        },
        "id": "-JROpySYy_we",
        "outputId": "24980768-bc25-44fb-bdba-a196ead9b046"
      },
      "source": [
        "torch.manual_seed(1234)"
      ],
      "execution_count": 3,
      "outputs": [
        {
          "output_type": "execute_result",
          "data": {
            "text/plain": [
              "<torch._C.Generator at 0x7eff6ccb7d20>"
            ]
          },
          "metadata": {
            "tags": []
          },
          "execution_count": 3
        }
      ]
    },
    {
      "cell_type": "code",
      "metadata": {
        "id": "VlCyVaI3_yJW"
      },
      "source": [
        "def weights_init(m):\n",
        "    if hasattr(m, \"weight\"):\n",
        "        m.weight.data.uniform_(-0.5, 0.5)\n",
        "    if hasattr(m, \"bias\"):\n",
        "        m.bias.data.uniform_(-0.5, 0.5)\n",
        "    \n",
        "class LeNet(nn.Module):\n",
        "    def __init__(self):\n",
        "        super(LeNet, self).__init__()\n",
        "        act = nn.Sigmoid\n",
        "        self.body = nn.Sequential(\n",
        "            nn.Conv2d(3, 12, kernel_size=5, padding=5//2, stride=2),\n",
        "            act(),\n",
        "            nn.Conv2d(12, 12, kernel_size=5, padding=5//2, stride=2),\n",
        "            act(),\n",
        "            nn.Conv2d(12, 12, kernel_size=5, padding=5//2, stride=1),\n",
        "            act(),\n",
        "            nn.Conv2d(12, 12, kernel_size=5, padding=5//2, stride=1),\n",
        "            act(),\n",
        "        )\n",
        "        self.fc = nn.Sequential(\n",
        "            nn.Linear(768, 100)\n",
        "        )\n",
        "        \n",
        "    def forward(self, x):\n",
        "        out = self.body(x)\n",
        "        out = out.view(out.size(0), -1)\n",
        "        # print(out.size())\n",
        "        out = self.fc(out)\n",
        "        return out\n",
        "    \n",
        "net = LeNet().to(device)\n",
        "    \n",
        "net.apply(weights_init)\n",
        "criterion = cross_entropy_for_onehot"
      ],
      "execution_count": 4,
      "outputs": []
    },
    {
      "cell_type": "code",
      "metadata": {
        "colab": {
          "base_uri": "https://localhost:8080/"
        },
        "id": "Q7fzrD-l0MIs",
        "outputId": "07e5adcc-5976-4fbe-d6dc-c10a4d5ec23c"
      },
      "source": [
        "'''\n",
        "Summary of the net\n",
        "'''\n",
        "print('Summery of net:',net)\n",
        "\n",
        "for param in net.parameters():\n",
        "   print('Summery of parameters:',type(param.data), param.size())\n",
        "\n",
        "total_parameters=sum(p.numel() for p in net.parameters() if p.requires_grad)\n",
        "print('total number of parameters',total_parameters)  "
      ],
      "execution_count": 5,
      "outputs": [
        {
          "output_type": "stream",
          "text": [
            "Summery of net: LeNet(\n",
            "  (body): Sequential(\n",
            "    (0): Conv2d(3, 12, kernel_size=(5, 5), stride=(2, 2), padding=(2, 2))\n",
            "    (1): Sigmoid()\n",
            "    (2): Conv2d(12, 12, kernel_size=(5, 5), stride=(2, 2), padding=(2, 2))\n",
            "    (3): Sigmoid()\n",
            "    (4): Conv2d(12, 12, kernel_size=(5, 5), stride=(1, 1), padding=(2, 2))\n",
            "    (5): Sigmoid()\n",
            "    (6): Conv2d(12, 12, kernel_size=(5, 5), stride=(1, 1), padding=(2, 2))\n",
            "    (7): Sigmoid()\n",
            "  )\n",
            "  (fc): Sequential(\n",
            "    (0): Linear(in_features=768, out_features=100, bias=True)\n",
            "  )\n",
            ")\n",
            "Summery of parameters: <class 'torch.Tensor'> torch.Size([12, 3, 5, 5])\n",
            "Summery of parameters: <class 'torch.Tensor'> torch.Size([12])\n",
            "Summery of parameters: <class 'torch.Tensor'> torch.Size([12, 12, 5, 5])\n",
            "Summery of parameters: <class 'torch.Tensor'> torch.Size([12])\n",
            "Summery of parameters: <class 'torch.Tensor'> torch.Size([12, 12, 5, 5])\n",
            "Summery of parameters: <class 'torch.Tensor'> torch.Size([12])\n",
            "Summery of parameters: <class 'torch.Tensor'> torch.Size([12, 12, 5, 5])\n",
            "Summery of parameters: <class 'torch.Tensor'> torch.Size([12])\n",
            "Summery of parameters: <class 'torch.Tensor'> torch.Size([100, 768])\n",
            "Summery of parameters: <class 'torch.Tensor'> torch.Size([100])\n",
            "total number of parameters 88648\n"
          ],
          "name": "stdout"
        }
      ]
    },
    {
      "cell_type": "code",
      "metadata": {
        "id": "RQ_sOm4ylzUd"
      },
      "source": [
        "maxiter=3\n",
        "method='DLG'"
      ],
      "execution_count": 37,
      "outputs": []
    },
    {
      "cell_type": "code",
      "metadata": {
        "colab": {
          "base_uri": "https://localhost:8080/",
          "height": 678
        },
        "id": "i0CKQMsf_314",
        "outputId": "3f3b0fc4-74e1-4745-c107-99a9c0818046"
      },
      "source": [
        "correct_labels=0 #count number of correct labels retrieved\n",
        "\n",
        "for ii in tqdm(range(maxiter)):\n",
        "    #initialization\n",
        "    test_images=[] #store the indexs of images being tested\n",
        "    MSE_grad=[] #store the MSE of the gradient between true dy/dx and dummy dy/dx\n",
        "    MSE_image=[] #store the MSE of the true image and dummy image\n",
        "    history_image=[]\n",
        "\n",
        "    ######### honest partipant #########\n",
        "    img_index = np.random.randint(0,50000) #50000 training data of CIFAR-100\n",
        "    test_images.append(img_index)\n",
        "    gt_data = tp(dst[img_index][0]).to(device)\n",
        "    gt_data = gt_data.view(1, *gt_data.size())\n",
        "    gt_label = torch.Tensor([dst[img_index][1]]).long().to(device)\n",
        "    gt_label = gt_label.view(1, )\n",
        "    gt_onehot_label = label_to_onehot(gt_label, num_classes=100)\n",
        "\n",
        "    plt.imshow(tt(gt_data[0].cpu()))\n",
        "    plt.title(\"Ground truth image\")\n",
        "    print(\"GT label is %d.\" % gt_label.item(), \"\\nOnehot label is %d.\" % torch.argmax(gt_onehot_label, dim=-1).item())\n",
        "\n",
        "    # compute original gradient \n",
        "    pred = net(gt_data)\n",
        "    y = criterion(pred, gt_onehot_label)\n",
        "    dy_dx = torch.autograd.grad(y, net.parameters())\n",
        "\n",
        "\n",
        "    # share the gradients with other clients\n",
        "    original_dy_dx = list((_.detach().clone() for _ in dy_dx))\n",
        "\n",
        "\n",
        "    #create random mask \n",
        "    replace_rate=0.99\n",
        "    mask=[]\n",
        "    for i in range(len(original_dy_dx)):   \n",
        "        mask.append(torch.from_numpy(np.random.choice([0, 1], size=original_dy_dx[i].shape, p=((1 - replace_rate), replace_rate)).astype(np.bool)))\n",
        "\n",
        "    masked_original_dy_dx=mask_grad(original_dy_dx,mask,total_parameters,replace_rate)\n",
        "\n",
        "    # generate dummy data and label\n",
        "    dummy_data = torch.randn(gt_data.size()).to(device).requires_grad_(True)\n",
        "    \n",
        "    if method =='DLG':\n",
        "        dummy_label = torch.randn(gt_onehot_label.size()).to(device).requires_grad_(True) #dummy label is a 1*100 random tensor\n",
        "        print(\"Dummy label is %d.\" % torch.argmax(dummy_label, dim=-1).item())\n",
        "        optimizer = torch.optim.LBFGS([dummy_data, dummy_label])\n",
        "    elif method=='iDLG':\n",
        "        dummy_label= torch.argmin(torch.sum(masked_original_dy_dx[-2], dim=-1), dim=-1).detach().reshape((1,)).requires_grad_(False) #tensor of size [1], not require grad\n",
        "        print(\"Dummy label is %d.\" % dummy_label.item())\n",
        "        optimizer = torch.optim.LBFGS([dummy_data, ]) #dummy_label not updated\n",
        "\n",
        "    plt.imshow(tt(dummy_data[0].cpu()))\n",
        "    plt.title(\"Dummy data\")\n",
        "    \n",
        "\n",
        "    history = []\n",
        "    for iters in range(10):\n",
        "        def closure():\n",
        "            optimizer.zero_grad()\n",
        "\n",
        "            dummy_pred = net(dummy_data) \n",
        "            if method =='DLG':\n",
        "                dummy_onehot_label = F.softmax(dummy_label, dim=-1)\n",
        "            elif method=='iDLG':\n",
        "                dummy_onehot_label = dummy_label          \n",
        "            dummy_loss = criterion(dummy_pred, dummy_onehot_label) \n",
        "            dummy_dy_dx = torch.autograd.grad(dummy_loss, net.parameters(), create_graph=True)\n",
        "            dummy_dy_dx=mask_grad(dummy_dy_dx,mask,total_parameters,replace_rate) #apply mask of zeros\n",
        "\n",
        "            grad_diff = 0\n",
        "            grad_count = 0\n",
        "            \n",
        "                    \n",
        "            for gx, gy in zip(dummy_dy_dx, masked_original_dy_dx): # TODO: fix the variablas here\n",
        "\n",
        "                grad_diff += ((gx - gy) ** 2).sum()\n",
        "                \n",
        "                grad_count += gx.nelement()\n",
        "\n",
        "            \n",
        "            grad_diff = grad_diff / (1-replace_rate) #adjust for the x% uploading\n",
        "            grad_diff.backward()\n",
        "            return grad_diff\n",
        "        \n",
        "        optimizer.step(closure)\n",
        "\n",
        "        if iters % 30 == 0: \n",
        "            current_loss = closure()\n",
        "            print(iters, \"%.4f\" % current_loss.item())\n",
        "\n",
        "        # early stopping\n",
        "        if current_loss.item() < 1E-4:\n",
        "            break\n",
        "    \n",
        "    MSE_grad.append(closure().item())\n",
        "    history_image.append(tt(dummy_data[0].cpu()))\n",
        "    MSE_image.append(np.linalg.norm(dummy_data[0].detach().cpu().numpy()-gt_data[0].detach().cpu().numpy()))\n",
        "\n",
        "    if method == 'DLG':\n",
        "        if (torch.argmax(dummy_label, dim=-1).item()==gt_label.item()):\n",
        "           correct_labels += 1\n",
        "    elif method=='iDLG':\n",
        "        if  dummy_label.item()==gt_label.item():\n",
        "            correct_labels += 1\n",
        "\n",
        "print('accuracy in label retrieval',correct_labels/maxiter)\n",
        "print(MSE_grad)\n",
        "\n",
        "print(MSE_image)"
      ],
      "execution_count": 39,
      "outputs": [
        {
          "output_type": "stream",
          "text": [
            "\n",
            "\n",
            "  0%|          | 0/3 [00:00<?, ?it/s]\u001b[A\u001b[A"
          ],
          "name": "stderr"
        },
        {
          "output_type": "stream",
          "text": [
            "GT label is 19. \n",
            "Onehot label is 19.\n",
            "Dummy label is 12.\n",
            "0 1.6999\n"
          ],
          "name": "stdout"
        },
        {
          "output_type": "stream",
          "text": [
            "\n",
            "\n",
            " 33%|███▎      | 1/3 [00:05<00:10,  5.46s/it]\u001b[A\u001b[A"
          ],
          "name": "stderr"
        },
        {
          "output_type": "stream",
          "text": [
            "GT label is 8. \n",
            "Onehot label is 8.\n",
            "Dummy label is 64.\n",
            "0 3.8097\n"
          ],
          "name": "stdout"
        },
        {
          "output_type": "stream",
          "text": [
            "\n",
            "\n",
            " 67%|██████▋   | 2/3 [00:10<00:05,  5.43s/it]\u001b[A\u001b[A"
          ],
          "name": "stderr"
        },
        {
          "output_type": "stream",
          "text": [
            "GT label is 26. \n",
            "Onehot label is 26.\n",
            "Dummy label is 40.\n",
            "0 1.3883\n"
          ],
          "name": "stdout"
        },
        {
          "output_type": "stream",
          "text": [
            "\n",
            "\n",
            "100%|██████████| 3/3 [00:16<00:00,  5.42s/it]\n"
          ],
          "name": "stderr"
        },
        {
          "output_type": "stream",
          "text": [
            "accuracy in label retrieval 1.0\n",
            "[0.00991366058588028]\n",
            "[79.36028]\n"
          ],
          "name": "stdout"
        },
        {
          "output_type": "display_data",
          "data": {
            "image/png": "[encoded data removed]",
            "text/plain": [
              "<Figure size 432x288 with 1 Axes>"
            ]
          },
          "metadata": {
            "tags": [],
            "needs_background": "light"
          }
        }
      ]
    },
    {
      "cell_type": "code",
      "metadata": {
        "colab": {
          "base_uri": "https://localhost:8080/",
          "height": 293
        },
        "id": "USNLeEsLuNn3",
        "outputId": "bd4ed0e4-950e-45fe-863a-bd5d4d729054"
      },
      "source": [
        "import matplotlib.pyplot as plt\n",
        "plt.plot(MSE_grad)\n",
        "print(MSE_grad)"
      ],
      "execution_count": 29,
      "outputs": [
        {
          "output_type": "stream",
          "text": [
            "[46407600.0]\n"
          ],
          "name": "stdout"
        },
        {
          "output_type": "display_data",
          "data": {
            "image/png": "[encoded data removed]",
            "text/plain": [
              "<Figure size 432x288 with 1 Axes>"
            ]
          },
          "metadata": {
            "tags": [],
            "needs_background": "light"
          }
        }
      ]
    }
  ]
}